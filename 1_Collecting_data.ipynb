{
 "cells": [
  {
   "cell_type": "markdown",
   "id": "ca321858",
   "metadata": {},
   "source": [
    "# Сбор и преобработка данных"
   ]
  },
  {
   "cell_type": "markdown",
   "id": "6d1acd7f",
   "metadata": {},
   "source": [
    "Данные - это сводная таблица из результатов отчётов о тестировании продукта. Сами отчёты представлены в разрешении (.hst). Задача на этом шаге собрать все hst файлы с сервера, обработать и создать на основе таблицу для анализа."
   ]
  },
  {
   "cell_type": "markdown",
   "id": "142098d9",
   "metadata": {},
   "source": [
    "## Сбор данных"
   ]
  },
  {
   "cell_type": "code",
   "execution_count": 1,
   "id": "96312759",
   "metadata": {},
   "outputs": [],
   "source": [
    "import os\n",
    "import shutil"
   ]
  },
  {
   "cell_type": "code",
   "execution_count": 2,
   "id": "dcd7b306",
   "metadata": {},
   "outputs": [],
   "source": [
    "#директория хранения\n",
    "d = 'C:/Autotesting2022/Tests/Version_3_0'\n",
    "\n",
    "#обход файлов в директории, сбор файлов с разрешением hst и копирование их в пользовательскую директорию\n",
    "folders = os.walk(d)\n",
    "for root, dirs, files in os.walk(d):\n",
    "    for f in files:\n",
    "        if f.endswith('.hst'):\n",
    "            file_path = os.path.join(root, f)\n",
    "            shutil.copy(file_path, 'C:/Users/skvortsova/Desktop/forHST_NA')"
   ]
  },
  {
   "cell_type": "markdown",
   "id": "20fb1aab",
   "metadata": {},
   "source": [
    "# Предобработка данных"
   ]
  },
  {
   "cell_type": "code",
   "execution_count": 3,
   "id": "ad4524a0",
   "metadata": {},
   "outputs": [],
   "source": [
    "# Часть 1\n",
    "# Создание таблицы с признаками:\n",
    "# имя, первый запуск, последний запуск, последнее паданение, всего падений, всего запусков \n",
    "# и затраченное время на проирывание теста"
   ]
  },
  {
   "cell_type": "code",
   "execution_count": null,
   "id": "4515a0cd",
   "metadata": {},
   "outputs": [],
   "source": [
    "import os\n",
    "import pandas\n",
    "from pandas import DataFrame\n",
    "from tabulate import tabulate"
   ]
  },
  {
   "cell_type": "code",
   "execution_count": null,
   "id": "60865d6f",
   "metadata": {},
   "outputs": [],
   "source": [
    "d = 'C:/Users/N/Desktop/hst_test/all_hst'\n",
    "\n",
    "#создание датафрейма для анализа\n",
    "reports = pandas.DataFrame(columns=['path', 'first run', 'last run', \n",
    "                                    'last crash', 'total crashes', \n",
    "                                    'total runs', 'elapsed time'])\n",
    "\n",
    "#наполнение датафрейма\n",
    "for root, dirs, files in os.walk(d):\n",
    "\n",
    "    for f in files:\n",
    "        report = []\n",
    "        file_path = os.path.join(root, f)\n",
    "        file = open(file_path, 'r')\n",
    "        report.append(str(f))\n",
    "\n",
    "        lines = file.readlines()[1:]\n",
    "\n",
    "        start_file = lines[1].split('\\t')\n",
    "        report.append(str(start_file[0])[:8])\n",
    "\n",
    "        end_file = lines[-1].split('\\t')\n",
    "        report.append(str(end_file[0])[:8])\n",
    "\n",
    "        count = 0\n",
    "        last_crash = 'none'\n",
    "\n",
    "        for line in lines:\n",
    "\n",
    "            param = line.split('\\t')\n",
    "            if param[2] not in ['Ok', 'GLO not found', 'GLO error']:\n",
    "                count += 1\n",
    "                last_crash = param[0]\n",
    "\n",
    "        report.append(str(last_crash)[:8])\n",
    "        report.append(str(count))\n",
    "        report.append(len(lines))\n",
    "        report.append(str(param[3]))\n",
    "\n",
    "        reports.loc[len(reports.index)] = report\n",
    "\n",
    "\n",
    "        file.close()\n",
    "\n",
    "#вывод в txt и csv форматы\n",
    "output = open(\"selection.txt\", \"w+\")\n",
    "output.write(tabulate(reports, headers='keys'))\n",
    "output.close()\n",
    "reports.to_csv('output.csv')"
   ]
  },
  {
   "cell_type": "code",
   "execution_count": null,
   "id": "229f00e8",
   "metadata": {},
   "outputs": [],
   "source": [
    "# Часть 2\n",
    "# Создание таблицы с признаками: \n",
    "# имя и распределение количества падений по месяцам последнего года"
   ]
  },
  {
   "cell_type": "code",
   "execution_count": null,
   "id": "272a8399",
   "metadata": {},
   "outputs": [],
   "source": [
    "d = 'C:/Users/N/Desktop/hst_test/all_hst'\n",
    "file = open('listTime.txt', 'w+')\n",
    "\n",
    "reports = pandas.DataFrame(\n",
    "    columns=['name', 'nov22', 'dec22', 'jan23',\n",
    "             'feb23', 'mar23', 'apr23', 'may23',\n",
    "             'jun23', 'jul23', 'aug23', 'sep23',\n",
    "             'oct23'])\n",
    "\n",
    "for root, dirs, files in os.walk(d):\n",
    "\n",
    "    for f in files:\n",
    "        report = []\n",
    "        file_path = os.path.join(root, f)\n",
    "        file = open(file_path, 'r')\n",
    "        report.append(str(f))\n",
    "\n",
    "        lines = file.readlines()[1:]\n",
    "        count = [0] * 12\n",
    "        for line in lines:\n",
    "\n",
    "            param = line.split('\\t')\n",
    "\n",
    "            if param[2] not in ['Ok', 'GLO not found', 'GLO error']:\n",
    "                if param[0][3:8] == '11.22':\n",
    "                    count[0] += 1\n",
    "\n",
    "                if param[0][3:8] == '12.22':\n",
    "                    count[1] += 1\n",
    "\n",
    "                if param[0][3:8] == '01.23':\n",
    "                    count[2] += 1\n",
    "\n",
    "                if param[0][3:8] == '02.23':\n",
    "                    count[3] += 1\n",
    "\n",
    "                if param[0][3:8] == '03.23':\n",
    "                    count[4] += 1\n",
    "\n",
    "                if param[0][3:8] == '04.23':\n",
    "                    count[5] += 1\n",
    "\n",
    "                if param[0][3:8] == '05.23':\n",
    "                    count[6] += 1\n",
    "\n",
    "                if param[0][3:8] == '06.23':\n",
    "                    count[7] += 1\n",
    "\n",
    "                if param[0][3:8] == '07.23':\n",
    "                    count[8] += 1\n",
    "\n",
    "                if param[0][3:8] == '08.23':\n",
    "                    count[9] += 1\n",
    "\n",
    "                if param[0][3:8] == '09.23':\n",
    "                    count[10] += 1\n",
    "\n",
    "                if param[0][3:8] == '10.23':\n",
    "                    count[11] += 1\n",
    "\n",
    "        report.extend(count)\n",
    "        reports.loc[len(reports.index)] = report\n",
    "\n",
    "output = open(\"Time.txt\", \"w+\")\n",
    "output.write(tabulate(reports, headers='keys'))\n",
    "output.close()\n",
    "reports.to_csv('time_output.csv')"
   ]
  },
  {
   "cell_type": "code",
   "execution_count": null,
   "id": "2b345190",
   "metadata": {},
   "outputs": [],
   "source": [
    "# Часть 3\n",
    "# Создание таблицы с признаками: \n",
    "# Имя и Категория"
   ]
  },
  {
   "cell_type": "code",
   "execution_count": null,
   "id": "1dc4c895",
   "metadata": {},
   "outputs": [],
   "source": [
    "import os\n",
    "\n",
    "d = 'C:/FVwork/Git/autotesting2022/Tests/Version_3_0'\n",
    "file = open('listDir.txt', 'w+')\n",
    "dir_list = []\n",
    "\n",
    "file.write(f\"Files in the directory: {d}\" + '\\n')\n",
    "count = 0\n",
    "\n",
    "folders = os.walk(d)\n",
    "\n",
    "for root, dirs, files in os.walk(d):\n",
    "\n",
    "    for f in files:\n",
    "        if f.endswith('.fvproj'):\n",
    "            fname = f.split('.')[0]\n",
    "            path = os.path.join(root, f)\n",
    "            c = path.split('\\\\')\n",
    "            count += 1\n",
    "            file.write(str(count) + '\\t' + fname + '\\t' + c[1] + '\\n')\n",
    "            \n",
    "file.close()\n",
    "file.close()"
   ]
  },
  {
   "cell_type": "markdown",
   "id": "e3bae5c2",
   "metadata": {},
   "source": [
    "Итого: на базе отчётов о тестировании создано три таблицы, которые содеждат в себе: \n",
    "- имя теста\n",
    "- дата первого запуска\n",
    "- дата последнего запуска\n",
    "- дата последнего паданения\n",
    "- суммарное количество падений\n",
    "- суммарное количество запусков \n",
    "- затраченное время на запуск теста\n",
    "- распределение количества падений по месяцам последнего года\n",
    "- категория теста"
   ]
  }
 ],
 "metadata": {
  "kernelspec": {
   "display_name": "Python 3 (ipykernel)",
   "language": "python",
   "name": "python3"
  },
  "language_info": {
   "codemirror_mode": {
    "name": "ipython",
    "version": 3
   },
   "file_extension": ".py",
   "mimetype": "text/x-python",
   "name": "python",
   "nbconvert_exporter": "python",
   "pygments_lexer": "ipython3",
   "version": "3.9.13"
  }
 },
 "nbformat": 4,
 "nbformat_minor": 5
}
